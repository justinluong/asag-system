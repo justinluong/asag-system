{
 "cells": [
  {
   "cell_type": "code",
   "execution_count": 1,
   "metadata": {},
   "outputs": [],
   "source": [
    "from sklearn.metrics import f1_score\n",
    "from datasets import load_dataset\n",
    "from transformers import DataCollatorWithPadding\n",
    "from transformers import Trainer, TrainingArguments\n",
    "\n",
    "import asag_system.constants as c\n",
    "from asag_system.models import (\n",
    "    DistilBertTripletTokenizer,\n",
    "    MostFrequentBaseline,\n",
    "    compute_metrics,\n",
    "    label_map,\n",
    ")\n",
    "from asag_system.datasets import TripletClassificationDataset"
   ]
  },
  {
   "cell_type": "code",
   "execution_count": 2,
   "metadata": {},
   "outputs": [
    {
     "data": {
      "text/plain": [
       "(Dataset({\n",
       "     features: ['question_id', 'question', 'question_qtype', 'question_module', 'question_stype', 'reference_answer', 'reference_answer_quality', 'student_answer', 'label_5way', 'test_set'],\n",
       "     num_rows: 8536\n",
       " }),\n",
       " Dataset({\n",
       "     features: ['question_id', 'question', 'question_qtype', 'question_module', 'question_stype', 'reference_answer', 'reference_answer_quality', 'student_answer', 'label_5way', 'test_set'],\n",
       "     num_rows: 2134\n",
       " }))"
      ]
     },
     "execution_count": 2,
     "metadata": {},
     "output_type": "execute_result"
    }
   ],
   "source": [
    "dataset = load_dataset(\"Atomi/semeval_2013_task_7_beetle_5way\")\n",
    "dev = dataset[\"train\"]\n",
    "split = dev.train_test_split(test_size=0.2, seed=42)\n",
    "train = split[\"train\"]\n",
    "val = split[\"test\"]\n",
    "train, val"
   ]
  },
  {
   "cell_type": "code",
   "execution_count": 3,
   "metadata": {},
   "outputs": [
    {
     "name": "stderr",
     "output_type": "stream",
     "text": [
      "/Users/justin/dev/asag-system/.venv/lib/python3.12/site-packages/huggingface_hub/file_download.py:1132: FutureWarning: `resume_download` is deprecated and will be removed in version 1.0.0. Downloads always resume when possible. If you want to force a new download, use `force_download=True`.\n",
      "  warnings.warn(\n"
     ]
    }
   ],
   "source": [
    "tokenizer = DistilBertTripletTokenizer()\n",
    "train_dataset = TripletClassificationDataset(train, tokenizer)\n",
    "val_dataset = TripletClassificationDataset(val, tokenizer)\n",
    "data_collator = DataCollatorWithPadding(tokenizer=tokenizer.tokenizer)\n",
    "model = MostFrequentBaseline()"
   ]
  },
  {
   "cell_type": "code",
   "execution_count": 4,
   "metadata": {},
   "outputs": [],
   "source": [
    "training_args = TrainingArguments(\n",
    "    output_dir=c.DATA_DIR / \"results\",\n",
    "    num_train_epochs=3,\n",
    "    per_device_train_batch_size=16,\n",
    "    per_device_eval_batch_size=16,\n",
    ")\n",
    "trainer = Trainer(\n",
    "    model=model,\n",
    "    args=training_args,\n",
    "    train_dataset=train_dataset,\n",
    "    eval_dataset=val_dataset,\n",
    "    data_collator=data_collator,\n",
    "    compute_metrics=compute_metrics\n",
    ")"
   ]
  },
  {
   "cell_type": "code",
   "execution_count": 5,
   "metadata": {},
   "outputs": [
    {
     "data": {
      "application/vnd.jupyter.widget-view+json": {
       "model_id": "2c39d47bb5974611852d1aef9c1b80d4",
       "version_major": 2,
       "version_minor": 0
      },
      "text/plain": [
       "  0%|          | 0/134 [00:00<?, ?it/s]"
      ]
     },
     "metadata": {},
     "output_type": "display_data"
    },
    {
     "data": {
      "text/plain": [
       "{'eval_loss': 1.5097997188568115,\n",
       " 'eval_macro_f1': 0.11326839099764865,\n",
       " 'eval_accuracy': 0.3950328022492971,\n",
       " 'eval_runtime': 2.6645,\n",
       " 'eval_samples_per_second': 800.904,\n",
       " 'eval_steps_per_second': 50.291}"
      ]
     },
     "execution_count": 5,
     "metadata": {},
     "output_type": "execute_result"
    }
   ],
   "source": [
    "trainer.evaluate()"
   ]
  },
  {
   "cell_type": "markdown",
   "metadata": {},
   "source": [
    "### Sanity Check Metrics\n",
    "\n",
    "Check that the macro f1 score calculated using compute_metric is correct"
   ]
  },
  {
   "cell_type": "code",
   "execution_count": 6,
   "metadata": {},
   "outputs": [
    {
     "data": {
      "text/plain": [
       "0.11326839099764865"
      ]
     },
     "execution_count": 6,
     "metadata": {},
     "output_type": "execute_result"
    }
   ],
   "source": [
    "val_df = val.to_pandas()\n",
    "val_df[\"label\"] = val_df[\"label_5way\"].apply(lambda x: label_map[x])\n",
    "val_df[\"baseline_pred\"] = 0\n",
    "val_df[[\"label\", \"baseline_pred\"]]\n",
    "macro_f1 = f1_score(val_df[\"label\"], val_df[\"baseline_pred\"], average=\"macro\")\n",
    "macro_f1"
   ]
  },
  {
   "cell_type": "code",
   "execution_count": 8,
   "metadata": {},
   "outputs": [
    {
     "data": {
      "text/plain": [
       "0.3950328022492971"
      ]
     },
     "execution_count": 8,
     "metadata": {},
     "output_type": "execute_result"
    }
   ],
   "source": [
    "accuracy = (val_df[\"label\"] == val_df[\"baseline_pred\"]).mean()\n",
    "accuracy"
   ]
  },
  {
   "cell_type": "code",
   "execution_count": null,
   "metadata": {},
   "outputs": [],
   "source": []
  }
 ],
 "metadata": {
  "kernelspec": {
   "display_name": ".venv",
   "language": "python",
   "name": "python3"
  },
  "language_info": {
   "codemirror_mode": {
    "name": "ipython",
    "version": 3
   },
   "file_extension": ".py",
   "mimetype": "text/x-python",
   "name": "python",
   "nbconvert_exporter": "python",
   "pygments_lexer": "ipython3",
   "version": "3.12.1"
  }
 },
 "nbformat": 4,
 "nbformat_minor": 2
}
