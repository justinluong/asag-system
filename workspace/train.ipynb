{
 "cells": [
  {
   "cell_type": "code",
   "execution_count": 1,
   "metadata": {},
   "outputs": [],
   "source": [
    "import torch\n",
    "from datasets import load_dataset\n",
    "from transformers import DataCollatorWithPadding\n",
    "from transformers import Trainer, TrainingArguments\n",
    "\n",
    "import asag_system.constants as c\n",
    "from asag_system.models import (\n",
    "    DistilBertTripletTokenizer,\n",
    "    SentenceTripletClassifier,\n",
    "    compute_metrics,\n",
    ")\n",
    "from asag_system.datasets import TripletClassificationDataset"
   ]
  },
  {
   "cell_type": "code",
   "execution_count": 2,
   "metadata": {},
   "outputs": [
    {
     "data": {
      "text/plain": [
       "(Dataset({\n",
       "     features: ['question_id', 'question', 'question_qtype', 'question_module', 'question_stype', 'reference_answer', 'reference_answer_quality', 'student_answer', 'label_5way', 'test_set'],\n",
       "     num_rows: 8536\n",
       " }),\n",
       " Dataset({\n",
       "     features: ['question_id', 'question', 'question_qtype', 'question_module', 'question_stype', 'reference_answer', 'reference_answer_quality', 'student_answer', 'label_5way', 'test_set'],\n",
       "     num_rows: 2134\n",
       " }))"
      ]
     },
     "execution_count": 2,
     "metadata": {},
     "output_type": "execute_result"
    }
   ],
   "source": [
    "dataset = load_dataset(\"Atomi/semeval_2013_task_7_beetle_5way\")\n",
    "dev = dataset[\"train\"]\n",
    "split = dev.train_test_split(test_size=0.2, seed=42)\n",
    "train = split[\"train\"]\n",
    "val = split[\"test\"]\n",
    "train, val"
   ]
  },
  {
   "cell_type": "code",
   "execution_count": 3,
   "metadata": {},
   "outputs": [
    {
     "name": "stderr",
     "output_type": "stream",
     "text": [
      "/Users/justin/dev/asag-system/.venv/lib/python3.12/site-packages/huggingface_hub/file_download.py:1132: FutureWarning: `resume_download` is deprecated and will be removed in version 1.0.0. Downloads always resume when possible. If you want to force a new download, use `force_download=True`.\n",
      "  warnings.warn(\n",
      "Some weights of DistilBertForSequenceClassification were not initialized from the model checkpoint at distilbert-base-uncased and are newly initialized: ['classifier.bias', 'classifier.weight', 'pre_classifier.bias', 'pre_classifier.weight']\n",
      "You should probably TRAIN this model on a down-stream task to be able to use it for predictions and inference.\n"
     ]
    }
   ],
   "source": [
    "tokenizer = DistilBertTripletTokenizer()\n",
    "train_dataset = TripletClassificationDataset(train, tokenizer)\n",
    "val_dataset = TripletClassificationDataset(val, tokenizer)\n",
    "data_collator = DataCollatorWithPadding(tokenizer=tokenizer.tokenizer)\n",
    "model = SentenceTripletClassifier()"
   ]
  },
  {
   "cell_type": "code",
   "execution_count": 4,
   "metadata": {},
   "outputs": [],
   "source": [
    "training_args = TrainingArguments(\n",
    "    output_dir=c.DATA_DIR / \"results\",\n",
    "    num_train_epochs=3,\n",
    "    per_device_train_batch_size=16,\n",
    "    per_device_eval_batch_size=16,\n",
    ")\n",
    "trainer = Trainer(\n",
    "    model=model,\n",
    "    args=training_args,\n",
    "    train_dataset=train_dataset,\n",
    "    eval_dataset=val_dataset,\n",
    "    data_collator=data_collator,\n",
    "    compute_metrics=compute_metrics,\n",
    ")"
   ]
  },
  {
   "cell_type": "code",
   "execution_count": 5,
   "metadata": {},
   "outputs": [
    {
     "data": {
      "application/vnd.jupyter.widget-view+json": {
       "model_id": "06208a09f5c649ddbfc13ab722ee56c7",
       "version_major": 2,
       "version_minor": 0
      },
      "text/plain": [
       "  0%|          | 0/1602 [00:00<?, ?it/s]"
      ]
     },
     "metadata": {},
     "output_type": "display_data"
    },
    {
     "name": "stdout",
     "output_type": "stream",
     "text": [
      "{'loss': 0.8693, 'grad_norm': 8.332180976867676, 'learning_rate': 3.439450686641698e-05, 'epoch': 0.94}\n",
      "{'loss': 0.4796, 'grad_norm': 13.950277328491211, 'learning_rate': 1.8789013732833958e-05, 'epoch': 1.87}\n",
      "{'loss': 0.2636, 'grad_norm': 8.915434837341309, 'learning_rate': 3.1835205992509364e-06, 'epoch': 2.81}\n",
      "{'train_runtime': 282.5178, 'train_samples_per_second': 90.642, 'train_steps_per_second': 5.67, 'train_loss': 0.5185116685731581, 'epoch': 3.0}\n"
     ]
    },
    {
     "data": {
      "text/plain": [
       "TrainOutput(global_step=1602, training_loss=0.5185116685731581, metrics={'train_runtime': 282.5178, 'train_samples_per_second': 90.642, 'train_steps_per_second': 5.67, 'total_flos': 0.0, 'train_loss': 0.5185116685731581, 'epoch': 3.0})"
      ]
     },
     "execution_count": 5,
     "metadata": {},
     "output_type": "execute_result"
    }
   ],
   "source": [
    "trainer.train()"
   ]
  },
  {
   "cell_type": "code",
   "execution_count": 6,
   "metadata": {},
   "outputs": [
    {
     "data": {
      "application/vnd.jupyter.widget-view+json": {
       "model_id": "50f853dfc3514da184f5e54c56bf45e9",
       "version_major": 2,
       "version_minor": 0
      },
      "text/plain": [
       "  0%|          | 0/134 [00:00<?, ?it/s]"
      ]
     },
     "metadata": {},
     "output_type": "display_data"
    },
    {
     "data": {
      "text/plain": [
       "{'eval_loss': 0.3382340371608734,\n",
       " 'eval_macro_f1': 0.8924175311693443,\n",
       " 'eval_accuracy': 0.8983130271790065,\n",
       " 'eval_runtime': 10.583,\n",
       " 'eval_samples_per_second': 201.645,\n",
       " 'eval_steps_per_second': 12.662,\n",
       " 'epoch': 3.0}"
      ]
     },
     "execution_count": 6,
     "metadata": {},
     "output_type": "execute_result"
    }
   ],
   "source": [
    "# Eval Result\n",
    "trainer.evaluate()"
   ]
  },
  {
   "cell_type": "markdown",
   "metadata": {},
   "source": [
    "# Retrain on entire development set"
   ]
  },
  {
   "cell_type": "code",
   "execution_count": 7,
   "metadata": {},
   "outputs": [
    {
     "name": "stderr",
     "output_type": "stream",
     "text": [
      "/Users/justin/dev/asag-system/.venv/lib/python3.12/site-packages/huggingface_hub/file_download.py:1132: FutureWarning: `resume_download` is deprecated and will be removed in version 1.0.0. Downloads always resume when possible. If you want to force a new download, use `force_download=True`.\n",
      "  warnings.warn(\n",
      "Some weights of DistilBertForSequenceClassification were not initialized from the model checkpoint at distilbert-base-uncased and are newly initialized: ['classifier.bias', 'classifier.weight', 'pre_classifier.bias', 'pre_classifier.weight']\n",
      "You should probably TRAIN this model on a down-stream task to be able to use it for predictions and inference.\n"
     ]
    }
   ],
   "source": [
    "dev_dataset = TripletClassificationDataset(dev, tokenizer)\n",
    "model = SentenceTripletClassifier()\n",
    "\n",
    "trainer = Trainer(\n",
    "    model=model,\n",
    "    args=training_args,\n",
    "    train_dataset=train_dataset,\n",
    "    eval_dataset=val_dataset,\n",
    "    data_collator=data_collator,\n",
    "    compute_metrics=compute_metrics,\n",
    ")"
   ]
  },
  {
   "cell_type": "code",
   "execution_count": 9,
   "metadata": {},
   "outputs": [
    {
     "data": {
      "application/vnd.jupyter.widget-view+json": {
       "model_id": "18f780a0b84b4efebca3f20bf97973fc",
       "version_major": 2,
       "version_minor": 0
      },
      "text/plain": [
       "  0%|          | 0/1602 [00:00<?, ?it/s]"
      ]
     },
     "metadata": {},
     "output_type": "display_data"
    },
    {
     "name": "stdout",
     "output_type": "stream",
     "text": [
      "{'loss': 0.8703, 'grad_norm': 8.002219200134277, 'learning_rate': 3.439450686641698e-05, 'epoch': 0.94}\n",
      "{'loss': 0.4653, 'grad_norm': 7.217555999755859, 'learning_rate': 1.8789013732833958e-05, 'epoch': 1.87}\n",
      "{'loss': 0.2461, 'grad_norm': 7.48265266418457, 'learning_rate': 3.1835205992509364e-06, 'epoch': 2.81}\n",
      "{'train_runtime': 271.484, 'train_samples_per_second': 94.326, 'train_steps_per_second': 5.901, 'train_loss': 0.5072842156247105, 'epoch': 3.0}\n"
     ]
    },
    {
     "data": {
      "text/plain": [
       "TrainOutput(global_step=1602, training_loss=0.5072842156247105, metrics={'train_runtime': 271.484, 'train_samples_per_second': 94.326, 'train_steps_per_second': 5.901, 'total_flos': 0.0, 'train_loss': 0.5072842156247105, 'epoch': 3.0})"
      ]
     },
     "execution_count": 9,
     "metadata": {},
     "output_type": "execute_result"
    }
   ],
   "source": [
    "trainer.train()"
   ]
  },
  {
   "cell_type": "code",
   "execution_count": 10,
   "metadata": {},
   "outputs": [],
   "source": [
    "torch.save(trainer.model.state_dict(), c.DATA_DIR / \"models\" / \"sentence-triplet-classifier.pt\")"
   ]
  },
  {
   "cell_type": "code",
   "execution_count": null,
   "metadata": {},
   "outputs": [],
   "source": []
  }
 ],
 "metadata": {
  "kernelspec": {
   "display_name": ".venv",
   "language": "python",
   "name": "python3"
  },
  "language_info": {
   "codemirror_mode": {
    "name": "ipython",
    "version": 3
   },
   "file_extension": ".py",
   "mimetype": "text/x-python",
   "name": "python",
   "nbconvert_exporter": "python",
   "pygments_lexer": "ipython3",
   "version": "3.12.1"
  }
 },
 "nbformat": 4,
 "nbformat_minor": 2
}
