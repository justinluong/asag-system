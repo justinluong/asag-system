{
 "cells": [
  {
   "cell_type": "code",
   "execution_count": 1,
   "metadata": {},
   "outputs": [],
   "source": [
    "import torch\n",
    "from datasets import load_dataset\n",
    "from transformers import DataCollatorWithPadding\n",
    "from transformers import Trainer, TrainingArguments\n",
    "\n",
    "import asag_system.constants as c\n",
    "from asag_system.models import (\n",
    "    DistilBertTripletTokenizer,\n",
    "    SentenceTripletClassifier,\n",
    "    MostFrequentBaseline,\n",
    "    compute_metrics,\n",
    ")\n",
    "from asag_system.datasets import TripletClassificationDataset"
   ]
  },
  {
   "cell_type": "code",
   "execution_count": 2,
   "metadata": {},
   "outputs": [],
   "source": [
    "dataset = load_dataset(\"Atomi/semeval_2013_task_7_beetle_5way\")\n",
    "test = dataset[\"test\"]\n",
    "unseen_answers = test.filter(lambda example: example['test_set'] == 'unseen-answers')\n",
    "unseen_questions = test.filter(lambda example: example['test_set'] == 'unseen-questions')\n",
    "assert len(unseen_answers) + len(unseen_questions) == len(test)"
   ]
  },
  {
   "cell_type": "code",
   "execution_count": 3,
   "metadata": {},
   "outputs": [
    {
     "name": "stderr",
     "output_type": "stream",
     "text": [
      "/Users/justin/dev/asag-system/.venv/lib/python3.12/site-packages/huggingface_hub/file_download.py:1132: FutureWarning: `resume_download` is deprecated and will be removed in version 1.0.0. Downloads always resume when possible. If you want to force a new download, use `force_download=True`.\n",
      "  warnings.warn(\n",
      "Some weights of DistilBertForSequenceClassification were not initialized from the model checkpoint at distilbert-base-uncased and are newly initialized: ['classifier.bias', 'classifier.weight', 'pre_classifier.bias', 'pre_classifier.weight']\n",
      "You should probably TRAIN this model on a down-stream task to be able to use it for predictions and inference.\n"
     ]
    },
    {
     "data": {
      "text/plain": [
       "<All keys matched successfully>"
      ]
     },
     "execution_count": 3,
     "metadata": {},
     "output_type": "execute_result"
    }
   ],
   "source": [
    "tokenizer = DistilBertTripletTokenizer()\n",
    "unseen_answers_dataset = TripletClassificationDataset(unseen_answers, tokenizer)\n",
    "unseen_questions_dataset = TripletClassificationDataset(unseen_questions, tokenizer)\n",
    "data_collator = DataCollatorWithPadding(tokenizer=tokenizer.tokenizer)\n",
    "baseline = MostFrequentBaseline()\n",
    "model = SentenceTripletClassifier()\n",
    "model_path = c.DATA_DIR / \"models\" / \"sentence-triplet-classifier.pt\"\n",
    "model.load_state_dict(torch.load(model_path))"
   ]
  },
  {
   "cell_type": "markdown",
   "metadata": {},
   "source": [
    "### DistilBert ASAG Model"
   ]
  },
  {
   "cell_type": "code",
   "execution_count": 4,
   "metadata": {},
   "outputs": [],
   "source": [
    "training_args = TrainingArguments(output_dir=c.DATA_DIR)"
   ]
  },
  {
   "cell_type": "code",
   "execution_count": 19,
   "metadata": {},
   "outputs": [],
   "source": [
    "trainer = Trainer(\n",
    "    model=model,\n",
    "    args=training_args,\n",
    "    compute_metrics=compute_metrics,\n",
    "    data_collator=data_collator,\n",
    ")"
   ]
  },
  {
   "cell_type": "code",
   "execution_count": 20,
   "metadata": {},
   "outputs": [
    {
     "data": {
      "application/vnd.jupyter.widget-view+json": {
       "model_id": "7bc5204202784a0b8a05cf05bca3eb05",
       "version_major": 2,
       "version_minor": 0
      },
      "text/plain": [
       "  0%|          | 0/70 [00:00<?, ?it/s]"
      ]
     },
     "metadata": {},
     "output_type": "display_data"
    },
    {
     "data": {
      "text/plain": [
       "{'eval_loss': 1.0527443885803223,\n",
       " 'eval_macro_f1': 0.6683717803011867,\n",
       " 'eval_accuracy': 0.7285714285714285,\n",
       " 'eval_runtime': 2.1523,\n",
       " 'eval_samples_per_second': 260.188,\n",
       " 'eval_steps_per_second': 32.524}"
      ]
     },
     "execution_count": 20,
     "metadata": {},
     "output_type": "execute_result"
    }
   ],
   "source": [
    "# Unsween Answers\n",
    "trainer.evaluate(unseen_answers_dataset)"
   ]
  },
  {
   "cell_type": "code",
   "execution_count": 21,
   "metadata": {},
   "outputs": [
    {
     "data": {
      "application/vnd.jupyter.widget-view+json": {
       "model_id": "1846e0ebdc1c4b3998d464def822b996",
       "version_major": 2,
       "version_minor": 0
      },
      "text/plain": [
       "  0%|          | 0/117 [00:00<?, ?it/s]"
      ]
     },
     "metadata": {},
     "output_type": "display_data"
    },
    {
     "data": {
      "text/plain": [
       "{'eval_loss': 1.3006949424743652,\n",
       " 'eval_macro_f1': 0.621826324995632,\n",
       " 'eval_accuracy': 0.6512378902045209,\n",
       " 'eval_runtime': 2.8966,\n",
       " 'eval_samples_per_second': 320.719,\n",
       " 'eval_steps_per_second': 40.392}"
      ]
     },
     "execution_count": 21,
     "metadata": {},
     "output_type": "execute_result"
    }
   ],
   "source": [
    "# Unseen Questions\n",
    "trainer.evaluate(unseen_questions_dataset)"
   ]
  },
  {
   "cell_type": "markdown",
   "metadata": {},
   "source": [
    "### Most Frequent Baseline Model"
   ]
  },
  {
   "cell_type": "code",
   "execution_count": 16,
   "metadata": {},
   "outputs": [
    {
     "data": {
      "application/vnd.jupyter.widget-view+json": {
       "model_id": "05803eb1221e45648499eb0e82aa3c80",
       "version_major": 2,
       "version_minor": 0
      },
      "text/plain": [
       "  0%|          | 0/70 [00:00<?, ?it/s]"
      ]
     },
     "metadata": {},
     "output_type": "display_data"
    },
    {
     "data": {
      "text/plain": [
       "{'eval_loss': 1.5012609958648682,\n",
       " 'eval_macro_f1': 0.11501272264631043,\n",
       " 'eval_accuracy': 0.4035714285714286,\n",
       " 'eval_runtime': 0.4474,\n",
       " 'eval_samples_per_second': 1251.733,\n",
       " 'eval_steps_per_second': 156.467}"
      ]
     },
     "execution_count": 16,
     "metadata": {},
     "output_type": "execute_result"
    }
   ],
   "source": [
    "# Unseen Answers\n",
    "trainer.model = baseline\n",
    "trainer.evaluate(unseen_answers_dataset)"
   ]
  },
  {
   "cell_type": "code",
   "execution_count": 17,
   "metadata": {},
   "outputs": [
    {
     "data": {
      "application/vnd.jupyter.widget-view+json": {
       "model_id": "798e03e6c72942c89046d8df357fa496",
       "version_major": 2,
       "version_minor": 0
      },
      "text/plain": [
       "  0%|          | 0/70 [00:00<?, ?it/s]"
      ]
     },
     "metadata": {},
     "output_type": "display_data"
    },
    {
     "data": {
      "text/plain": [
       "{'eval_loss': 1.5012609958648682,\n",
       " 'eval_macro_f1': 0.11501272264631043,\n",
       " 'eval_accuracy': 0.4035714285714286,\n",
       " 'eval_runtime': 0.4269,\n",
       " 'eval_samples_per_second': 1311.715,\n",
       " 'eval_steps_per_second': 163.964}"
      ]
     },
     "execution_count": 17,
     "metadata": {},
     "output_type": "execute_result"
    }
   ],
   "source": [
    "# Unseen Questions\n",
    "trainer.evaluate(unseen_answers_dataset)"
   ]
  },
  {
   "cell_type": "code",
   "execution_count": null,
   "metadata": {},
   "outputs": [],
   "source": []
  }
 ],
 "metadata": {
  "kernelspec": {
   "display_name": ".venv",
   "language": "python",
   "name": "python3"
  },
  "language_info": {
   "codemirror_mode": {
    "name": "ipython",
    "version": 3
   },
   "file_extension": ".py",
   "mimetype": "text/x-python",
   "name": "python",
   "nbconvert_exporter": "python",
   "pygments_lexer": "ipython3",
   "version": "3.12.1"
  }
 },
 "nbformat": 4,
 "nbformat_minor": 2
}
